{
  "nbformat": 4,
  "nbformat_minor": 0,
  "metadata": {
    "colab": {
      "provenance": []
    },
    "kernelspec": {
      "name": "python3",
      "display_name": "Python 3"
    },
    "language_info": {
      "name": "python"
    }
  },
  "cells": [
    {
      "cell_type": "markdown",
      "source": [
        "## SORT ARRAY BY INCREASING FREQUENCY"
      ],
      "metadata": {
        "id": "P9VthzuJvKyW"
      }
    },
    {
      "cell_type": "code",
      "source": [
        "class Solution:\n",
        "    def frequencySort(self, nums: List[int]) -> List[int]:\n",
        "        # Create a dictionary to count the frequency of each number\n",
        "        freq = {}\n",
        "        for num in nums:\n",
        "            if num in freq:\n",
        "                freq[num] += 1\n",
        "            else:\n",
        "                freq[num] = 1\n",
        "\n",
        "        # Sort the array based on the frequency and value\n",
        "        # Sort by frequency in ascending order, then by value in descending order\n",
        "        sorted_nums = sorted(nums, key=lambda x: (freq[x], -x))\n",
        "\n",
        "        return sorted_nums\n",
        "\n",
        "# Example usage:\n",
        "sol = Solution()\n",
        "\n",
        "# Example 1\n",
        "nums1 = [1, 1, 2, 2, 2, 3]\n",
        "print(sol.frequencySort(nums1))  # Output: [3, 1, 1, 2, 2, 2]\n",
        "\n",
        "# Example 2\n",
        "nums2 = [2, 3, 1, 3, 2]\n",
        "print(sol.frequencySort(nums2))  # Output: [1, 3, 3, 2, 2]\n",
        "\n",
        "# Example 3\n",
        "nums3 = [-1, 1, -6, 4, 5, 6, 1, 4, 1]\n",
        "print(sol.frequencySort(nums3))  # Output: [5, -1, 4, 4, -6, -6, 1, 1, 1]\n"
      ],
      "metadata": {
        "id": "rnBa4DvkxVn_"
      },
      "execution_count": null,
      "outputs": []
    },
    {
      "cell_type": "markdown",
      "source": [
        "## REVERSE INTEGER"
      ],
      "metadata": {
        "id": "M6UPVluNvldL"
      }
    },
    {
      "cell_type": "code",
      "source": [
        "class Solution:\n",
        "    def reverse(self, x: int) -> int:\n",
        "        INT_MIN, INT_MAX = -2**31, 2**31 - 1\n",
        "\n",
        "        result = 0\n",
        "        sign = -1 if x < 0 else 1\n",
        "        x = abs(x)\n",
        "\n",
        "        while x != 0:\n",
        "            pop = x % 10\n",
        "            x //= 10\n",
        "\n",
        "            # Check for overflow before actually performing the operations\n",
        "            if result > (INT_MAX - pop) // 10:\n",
        "                return 0\n",
        "\n",
        "            result = result * 10 + pop\n",
        "\n",
        "        return result * sign\n",
        "\n",
        "# Examples\n",
        "sol = Solution()\n",
        "print(sol.reverse(123))\n",
        "print(sol.reverse(-123))\n",
        "print(sol.reverse(120))"
      ],
      "metadata": {
        "id": "YaSeFWQRvrNf"
      },
      "execution_count": null,
      "outputs": []
    }
  ]
}